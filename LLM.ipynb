{
  "cells": [
    {
      "cell_type": "code",
      "execution_count": 3,
      "metadata": {
        "colab": {
          "base_uri": "https://localhost:8080/"
        },
        "id": "90-zjkLo-TGV",
        "outputId": "8d45682b-70c0-43b9-e62a-672506ee1d1c"
      },
      "outputs": [
        {
          "name": "stdout",
          "output_type": "stream",
          "text": [
            "\u001b[2K     \u001b[90m━━━━━━━━━━━━━━━━━━━━━━━━━━━━━━━━━━━━━━━━\u001b[0m \u001b[32m867.6/867.6 kB\u001b[0m \u001b[31m11.4 MB/s\u001b[0m eta \u001b[36m0:00:00\u001b[0m\n",
            "\u001b[2K     \u001b[90m━━━━━━━━━━━━━━━━━━━━━━━━━━━━━━━━━━━━━━━━\u001b[0m \u001b[32m193.4/193.4 kB\u001b[0m \u001b[31m10.9 MB/s\u001b[0m eta \u001b[36m0:00:00\u001b[0m\n",
            "\u001b[2K     \u001b[90m━━━━━━━━━━━━━━━━━━━━━━━━━━━━━━━━━━━━━━━━\u001b[0m \u001b[32m2.0/2.0 MB\u001b[0m \u001b[31m20.8 MB/s\u001b[0m eta \u001b[36m0:00:00\u001b[0m\n",
            "\u001b[2K     \u001b[90m━━━━━━━━━━━━━━━━━━━━━━━━━━━━━━━━━━━━━━━━\u001b[0m \u001b[32m302.8/302.8 kB\u001b[0m \u001b[31m19.3 MB/s\u001b[0m eta \u001b[36m0:00:00\u001b[0m\n",
            "\u001b[2K     \u001b[90m━━━━━━━━━━━━━━━━━━━━━━━━━━━━━━━━━━━━━━━━\u001b[0m \u001b[32m116.4/116.4 kB\u001b[0m \u001b[31m5.4 MB/s\u001b[0m eta \u001b[36m0:00:00\u001b[0m\n",
            "\u001b[2K     \u001b[90m━━━━━━━━━━━━━━━━━━━━━━━━━━━━━━━━━━━━━━━━\u001b[0m \u001b[32m312.9/312.9 kB\u001b[0m \u001b[31m16.2 MB/s\u001b[0m eta \u001b[36m0:00:00\u001b[0m\n",
            "\u001b[2K     \u001b[90m━━━━━━━━━━━━━━━━━━━━━━━━━━━━━━━━━━━━━━━━\u001b[0m \u001b[32m1.8/1.8 MB\u001b[0m \u001b[31m36.2 MB/s\u001b[0m eta \u001b[36m0:00:00\u001b[0m\n",
            "\u001b[2K     \u001b[90m━━━━━━━━━━━━━━━━━━━━━━━━━━━━━━━━━━━━━━━━\u001b[0m \u001b[32m151.2/151.2 kB\u001b[0m \u001b[31m16.4 MB/s\u001b[0m eta \u001b[36m0:00:00\u001b[0m\n",
            "\u001b[2K     \u001b[90m━━━━━━━━━━━━━━━━━━━━━━━━━━━━━━━━━━━━━━━━\u001b[0m \u001b[32m3.1/3.1 MB\u001b[0m \u001b[31m39.8 MB/s\u001b[0m eta \u001b[36m0:00:00\u001b[0m\n",
            "\u001b[2K     \u001b[90m━━━━━━━━━━━━━━━━━━━━━━━━━━━━━━━━━━━━━━━━\u001b[0m \u001b[32m75.6/75.6 kB\u001b[0m \u001b[31m6.0 MB/s\u001b[0m eta \u001b[36m0:00:00\u001b[0m\n",
            "\u001b[2K     \u001b[90m━━━━━━━━━━━━━━━━━━━━━━━━━━━━━━━━━━━━━━━━\u001b[0m \u001b[32m49.3/49.3 kB\u001b[0m \u001b[31m4.3 MB/s\u001b[0m eta \u001b[36m0:00:00\u001b[0m\n",
            "\u001b[2K     \u001b[90m━━━━━━━━━━━━━━━━━━━━━━━━━━━━━━━━━━━━━━━━\u001b[0m \u001b[32m53.0/53.0 kB\u001b[0m \u001b[31m4.7 MB/s\u001b[0m eta \u001b[36m0:00:00\u001b[0m\n",
            "\u001b[2K     \u001b[90m━━━━━━━━━━━━━━━━━━━━━━━━━━━━━━━━━━━━━━━━\u001b[0m \u001b[32m142.5/142.5 kB\u001b[0m \u001b[31m10.4 MB/s\u001b[0m eta \u001b[36m0:00:00\u001b[0m\n",
            "\u001b[2K     \u001b[90m━━━━━━━━━━━━━━━━━━━━━━━━━━━━━━━━━━━━━━━━\u001b[0m \u001b[32m77.9/77.9 kB\u001b[0m \u001b[31m5.5 MB/s\u001b[0m eta \u001b[36m0:00:00\u001b[0m\n",
            "\u001b[2K     \u001b[90m━━━━━━━━━━━━━━━━━━━━━━━━━━━━━━━━━━━━━━━━\u001b[0m \u001b[32m58.3/58.3 kB\u001b[0m \u001b[31m2.5 MB/s\u001b[0m eta \u001b[36m0:00:00\u001b[0m\n",
            "\u001b[?25h"
          ]
        }
      ],
      "source": [
        "!pip install -q langchain langchain-experimental langchain-openai langchain-google-genai langchain-community langchain-cohere pip install langchainhub"
      ]
    },
    {
      "cell_type": "code",
      "execution_count": 4,
      "metadata": {
        "id": "13TF60qIyR1n"
      },
      "outputs": [],
      "source": [
        "from DataManager import load_data\n",
        "from RouteVarQuery import RouteVarQuery\n",
        "from Stop import Stop\n",
        "from StopQuery import StopQuery\n",
        "from PathQuery import PathQuery\n",
        "from GraphBuilder import buildGraph"
      ]
    },
    {
      "cell_type": "code",
      "execution_count": 5,
      "metadata": {
        "id": "U-jkK0eYzC7N"
      },
      "outputs": [],
      "source": [
        "route_vars, all_stops = load_data(\n",
        "  'data/vars.json',\n",
        "  'data/stops.json',\n",
        "  'data/paths.json'\n",
        ")\n",
        "graph = buildGraph(route_vars, all_stops)\n",
        "dists, trace = graph.dijkstra_all()"
      ]
    },
    {
      "cell_type": "code",
      "execution_count": 6,
      "metadata": {
        "id": "3jr-74A19eef"
      },
      "outputs": [],
      "source": [
        "def bus_shortest_path(start_stop_id, end_stop_id):\n",
        "    path = graph.shortest_path(start_stop_id, end_stop_id, dists, trace)\n",
        "    time = sum([stop['time'] for stop in path if 'time' in stop])\n",
        "    dist = sum([stop['dist'] for stop in path if 'dist' in stop])\n",
        "    return path, time, dist\n",
        "\n",
        "route_var_query = RouteVarQuery(list(route_vars.values()))\n",
        "stop_query = StopQuery(list(all_stops.values()))\n",
        "path_query = PathQuery([route_var.Path for route_var in route_vars.values()])"
      ]
    },
    {
      "cell_type": "code",
      "execution_count": 7,
      "metadata": {
        "id": "kb13bkVB_X7f"
      },
      "outputs": [],
      "source": [
        "from langchain_google_genai import ChatGoogleGenerativeAI\n",
        "from langchain_cohere import ChatCohere\n",
        "from langchain_core.tools import tool\n",
        "from langchain.agents.openai_functions_agent.base import OpenAIFunctionsAgent\n",
        "from langchain_experimental.tools.python.tool import PythonAstREPLTool\n",
        "from langchain.agents.agent import RunnableMultiActionAgent\n",
        "from langchain.agents import AgentExecutor, create_tool_calling_agent\n",
        "from langchain_core.messages import SystemMessage, HumanMessage, AIMessage, ToolMessage\n",
        "\n",
        "COHERE_API_KEY = \"...\"\n",
        "GOOGLE_API_KEY = \"...\""
      ]
    },
    {
      "cell_type": "code",
      "execution_count": 11,
      "metadata": {
        "id": "98fZ8j5uA7lC"
      },
      "outputs": [],
      "source": [
        "# llm = ChatGoogleGenerativeAI(model=\"gemini-pro\", google_api_key=GOOGLE_API_KEY)\n",
        "llm = ChatCohere(model=\"command-r-plus\", cohere_api_key=COHERE_API_KEY, temperature=0)"
      ]
    },
    {
      "cell_type": "code",
      "execution_count": 8,
      "metadata": {
        "id": "Z6ITKsSSJfrE"
      },
      "outputs": [],
      "source": [
        "import re\n",
        "import ast\n",
        "from contextlib import redirect_stdout\n",
        "from io import StringIO\n",
        "from typing import Optional\n",
        "from langchain_core.callbacks.manager import CallbackManagerForToolRun\n",
        "\n",
        "class FixedPythonAstREPLTool(PythonAstREPLTool):\n",
        "    def _run(\n",
        "        self,\n",
        "        query: str,\n",
        "        run_manager: Optional[CallbackManagerForToolRun] = None,\n",
        "    ) -> str:\n",
        "        \"\"\"Use the tool.\"\"\"\n",
        "        io_buffer = StringIO()\n",
        "        try:\n",
        "            if self.sanitize_input:\n",
        "                # Removes `, whitespace & python from start\n",
        "                query = re.sub(r\"^(\\s|`)*(?i:python)?\\s*\", \"\", query)\n",
        "                # Removes whitespace & ` from end\n",
        "                query = re.sub(r\"(\\s|`)*$\", \"\", query)\n",
        "            print('Will execute this script:')\n",
        "            print(query)\n",
        "            print()\n",
        "            tree = ast.parse(query)\n",
        "            module = ast.Module(tree.body[:-1], type_ignores=[])\n",
        "            with redirect_stdout(io_buffer):\n",
        "                exec(ast.unparse(module), self.globals)\n",
        "            module_end = ast.Module(tree.body[-1:], type_ignores=[])\n",
        "            module_end_str = ast.unparse(module_end)\n",
        "            try:\n",
        "                with redirect_stdout(io_buffer):\n",
        "                    ret = eval(module_end_str, self.globals)\n",
        "                return io_buffer.getvalue() + (f'\\n\\nThe script returns:\\n{ret}' if ret else '')\n",
        "            except Exception:\n",
        "                with redirect_stdout(io_buffer):\n",
        "                    exec(module_end_str, self.globals)\n",
        "                return io_buffer.getvalue()\n",
        "        except Exception as e:\n",
        "            return io_buffer.getvalue() + \"\\n\\nThe script terminated because of:\\n{}: {}\".format(type(e).__name__, str(e))\n",
        "\n",
        "tools = [FixedPythonAstREPLTool(globals={'stop_query': stop_query, 'bus_shortest_path': bus_shortest_path})]"
      ]
    },
    {
      "cell_type": "code",
      "execution_count": 9,
      "metadata": {
        "id": "aGx86Lg9R1iP"
      },
      "outputs": [],
      "source": [
        "system_message = \"\"\"\\\n",
        "You are working with a Bus Network. The Bus Network consists of several Bus Stops.\n",
        "Each Bus Stop has the following properties:\n",
        "```\n",
        "{\n",
        "    \"StopId\": integer,\n",
        "    \"Code\": string,\n",
        "    \"Name\": string,\n",
        "    \"StopType\": string,\n",
        "    \"Zone\": string, // Zone is District name in Vietnamese (eg. \"Quận 1\")\n",
        "    \"Ward\": string | None,\n",
        "    \"AddressNo\": string,\n",
        "    \"Street\": string,\n",
        "    \"SupportDisability\": string,\n",
        "    \"Status\": string,\n",
        "    \"Lng\": float,\n",
        "    \"Lat\": float,\n",
        "    \"Search\": string,\n",
        "    \"Routes\": string\n",
        "}\n",
        "```\n",
        "Remember that Stop object only have these properties.\n",
        "\n",
        "Here is an example Stop:\n",
        "```\n",
        "Stop(\n",
        "  StopId=7276\n",
        "  Code=\"Q1 190\"\n",
        "  Name=\"Tôn Thất Tùng\"\n",
        "  StopType=\"Trụ dừng\"\n",
        "  Zone=\"Quận 1\"\n",
        "  Ward=\"Phường Phạm Ngũ Lão\"\n",
        "  AddressNo=\"277-279-275Y\"\n",
        "  Street=\"Phạm Ngũ Lão\"\n",
        "  SupportDisability=\"Có\"\n",
        "  Status=\"Đang khai thác\"\n",
        "  Lng=106.690941\n",
        "  Lat=10.76767\n",
        "  Search=\"TTT 277-279-275Y PNL\"\n",
        "  Routes=\"03, 04, 102, 109, 140, 18, 19, 20, 28, 34, 36, 39, 46, 52, 65, 69, 72, 75, 86, 88, 93\"\n",
        ")\n",
        "\n",
        "```\n",
        "\n",
        "You have access to Python and can query the Stops by using the `stop_query` object. The `stop_query` supports a operation:\n",
        "`stop_query.searchByAttribute(attribute_name: str, attribute_value: Any)`\n",
        "\n",
        "For example:\n",
        "`stop_query.searchByAttribute(\"Zone\", \"Quận 1\")` to find all stop in District 1.\n",
        "\n",
        "You can chain stop_query together for complex queries. For example:\n",
        "`stop_query.searchByAttribute(\"Zone\", \"Quận 1\").searchByAttribute(\"Ward\", \"3\")` to find all stop in District 1, Ward 3.\n",
        "\n",
        "You can access the list of Stops from a stop_query using `stop_query.Stops`. This is very useful for complex queries.\n",
        "For example, if the user wants to get all stop that the route 150 go through in District 3:\n",
        "```\n",
        "filtered_stops = []\n",
        "for stop in stop_query.Stops:\n",
        "    if stop.Zone == \"Quận 3\" and \"150\" in stop.Routes:\n",
        "        filtered_stops.append(stop)\n",
        "        print(stop.Name)\n",
        "```\n",
        "\n",
        "You can safely assume that the `stop_query` object is already defined as a global variable.\n",
        "You only have access to `stop_query` and built-in Python functions and modules.\n",
        "\n",
        "Beside that, you also have the function `bus_shortest_path(start_stop_id: int, destination_stop_id: int) -> tuple[list[Stop], float, float]` to find the shortest path between 2 stops.\n",
        "This function return 3 things: the path (list of PathPoint), total time in minutes and total distance in km.\n",
        "If `path` is an empty list, there is no path from start stop to destination stop.\n",
        "\n",
        "PathPoint structure is {\n",
        "    \"StopId\": int,\n",
        "    \"RouteId\": int, // bus route to take from this stop\n",
        "    \"RouteVarId\": int, // bus route variant to take from this stop\n",
        "    \"time\": float, // time to next stop\n",
        "    \"dist\": float, // distance to next stop\n",
        "}\n",
        "\n",
        "For example, if the user asked about the path from stop 431 to stop 442, you can run:\n",
        "```\n",
        "path, time, distance = bus_shortest_path(431, 442)\n",
        "print(f\"Total time: {time} minutes, Total distance: {distance} km\")\n",
        "\n",
        "# Print the path\n",
        "for point in path:\n",
        "    stop_id = point[\"StopId\"]\n",
        "    stop = next(filter(lambda s: s.StopId == stop_id, stop_query.Stops))\n",
        "    print(f\"{stop.StopId}: {stop.Name}\")\n",
        "```\n",
        "\n",
        "If you receive an error, try to rewrite the code and try again. Never give up!\n",
        "\"\"\"\n",
        "\n",
        "system_message = SystemMessage(content=system_message)\n",
        "prompt = OpenAIFunctionsAgent.create_prompt(system_message=system_message)"
      ]
    },
    {
      "cell_type": "code",
      "execution_count": 12,
      "metadata": {
        "id": "jAeg3vyQSaG8"
      },
      "outputs": [],
      "source": [
        "agent = RunnableMultiActionAgent(\n",
        "    runnable=create_tool_calling_agent(llm, tools, prompt),\n",
        "    input_keys_arg=[\"input\"],\n",
        "    return_keys_arg=[\"output\"],\n",
        ")\n",
        "\n",
        "agent = AgentExecutor(\n",
        "    agent=agent,\n",
        "    tools=tools,\n",
        "    verbose=True,\n",
        "    return_intermediate_steps=False,\n",
        "    max_iterations=15,\n",
        "    early_stopping_method='force'\n",
        ")"
      ]
    },
    {
      "cell_type": "code",
      "execution_count": null,
      "metadata": {
        "colab": {
          "base_uri": "https://localhost:8080/"
        },
        "id": "ia0N_J4_WQg3",
        "outputId": "45ad4e93-b731-4e99-b2b0-7f26811d123e"
      },
      "outputs": [
        {
          "name": "stdout",
          "output_type": "stream",
          "text": [
            "\n",
            "\n",
            "\u001b[1m> Entering new AgentExecutor chain...\u001b[0m\n",
            "\u001b[32;1m\u001b[1;3m\n",
            "Invoking: `python_repl_ast` with `{'query': 'start_stop = next(filter(lambda s: s.Name == \"Chu Văn An\", stop_query.Stops))\\ndestination_stop = next(filter(lambda s: s.Name == \"Ngã tư Phú Nhuận\", stop_query.Stops))\\n\\npath, time, distance = bus_shortest_path(start_stop.StopId, destination_stop.StopId)\\nprint(f\"Total time: {time} minutes, Total distance: {distance} km\")\\n\\n# Print the path\\nfor point in path:\\n    stop_id = point[\"StopId\"]\\n    stop = next(filter(lambda s: s.StopId == stop_id, stop_query.Stops))\\n    print(f\"{stop.StopId}: {stop.Name}\")'}`\n",
            "\n",
            "\n",
            "\u001b[0mWill execute this script:\n",
            "start_stop = next(filter(lambda s: s.Name == \"Chu Văn An\", stop_query.Stops))\n",
            "destination_stop = next(filter(lambda s: s.Name == \"Ngã tư Phú Nhuận\", stop_query.Stops))\n",
            "\n",
            "path, time, distance = bus_shortest_path(start_stop.StopId, destination_stop.StopId)\n",
            "print(f\"Total time: {time} minutes, Total distance: {distance} km\")\n",
            "\n",
            "# Print the path\n",
            "for point in path:\n",
            "    stop_id = point[\"StopId\"]\n",
            "    stop = next(filter(lambda s: s.StopId == stop_id, stop_query.Stops))\n",
            "    print(f\"{stop.StopId}: {stop.Name}\")\n",
            "\n",
            "\u001b[36;1m\u001b[1;3mTotal time: 26.986067854997025 minutes, Total distance: 11132.692058218938 km\n",
            "1: Chu Văn An\n",
            "470: Thuận Kiều Plaza\n",
            "437: Bệnh viện Chợ Rẫy\n",
            "439: Đại học Y Dược\n",
            "440: Bệnh viện Đại học Y Dược\n",
            "432: Công viên Văn Lang\n",
            "441: Trường Trần Khai Nguyên\n",
            "285: Trường Khiếm thị Nguyễn Đình Chiểu\n",
            "286: Hòa Hảo\n",
            "1907: Đài tưởng niệm\n",
            "1909: Ngã 7 Lý Thái Tổ\n",
            "92: Cao Thắng\n",
            "1911: Cư Xá Đô Thành\n",
            "1912: Bệnh viện Bình Dân\n",
            "731: Cách Mạng tháng 8\n",
            "1913: Bệnh viện Mắt TPHCM\n",
            "1917: Sở Khoa học và Công nghệ\n",
            "1920: Phạm Ngọc Thạch\n",
            "1915: Công Viên Lê Văn Tám\n",
            "1924: Đinh Tiên Hoàng\n",
            "2033: Cầu Bông\n",
            "2727: Bệnh viện Bình Thạnh\n",
            "2109: Lăng Ông Bà Chiểu\n",
            "591: UBND Quận Bình Thạnh\n",
            "594: Bệnh Viện Gia Định\n",
            "593: PCCC quận Bình Thạnh\n",
            "595: Bệnh viện Phước An\n",
            "596: Đại học Văn Hiến\n",
            "597: Ngã Tư Thích Quảng Đức\n",
            "598: Ngã tư Phan Xích Long\n",
            "50: Ngã tư Phú Nhuận\n",
            "\u001b[0m\u001b[32;1m\u001b[1;3mTo get from Chu Văn An to Ngã tư Phú Nhuận, it will take around **27 minutes** and you will travel around **11.13 km**. Here is the path you will take:\n",
            "1. Chu Văn An\n",
            "2. Thuận Kiều Plaza\n",
            "3. Bệnh viện Chợ Rẫy\n",
            "4. Đại học Y Dược\n",
            "5. Bệnh viện Đại học Y Dược\n",
            "6. Công viên Văn Lang\n",
            "7. Trường Trần Khai Nguyên\n",
            "8. Trường Khiếm thị Nguyễn Đình Chiểu\n",
            "9. Hòa Hảo\n",
            "10. Đài tưởng niệm\n",
            "11. Ngã 7 Lý Thái Tổ\n",
            "12. Cao Thắng\n",
            "13. Cư Xá Đô Thành\n",
            "14. Bệnh viện Bình Dân\n",
            "15. Cách Mạng tháng 8\n",
            "16. Bệnh viện Mắt TPHCM\n",
            "17. Sở Khoa học và Công nghệ\n",
            "18. Phạm Ngọc Thạch\n",
            "19. Công Viên Lê Văn Tám\n",
            "20. Đinh Tiên Hoàng\n",
            "21. Cầu Bông\n",
            "22. Bệnh viện Bình Thạnh\n",
            "23. Lăng Ông Bà Chiểu\n",
            "24. UBND Quận Bình Thạnh\n",
            "25. Bệnh Viện Gia Định\n",
            "26. PCCC quận Bình Thạnh\n",
            "27. Bệnh viện Phước An\n",
            "28. Đại học Văn Hiến\n",
            "29. Ngã Tư Thích Quảng Đức\n",
            "30. Ngã tư Phan Xích Long\n",
            "31. Ngã tư Phú Nhuận\u001b[0m\n",
            "\n",
            "\u001b[1m> Finished chain.\u001b[0m\n"
          ]
        },
        {
          "data": {
            "text/plain": [
              "{'input': 'How to get from Chu Văn An to Ngã tư Phú Nhuận?',\n",
              " 'output': 'To get from Chu Văn An to Ngã tư Phú Nhuận, it will take around **27 minutes** and you will travel around **11.13 km**. Here is the path you will take:\\n1. Chu Văn An\\n2. Thuận Kiều Plaza\\n3. Bệnh viện Chợ Rẫy\\n4. Đại học Y Dược\\n5. Bệnh viện Đại học Y Dược\\n6. Công viên Văn Lang\\n7. Trường Trần Khai Nguyên\\n8. Trường Khiếm thị Nguyễn Đình Chiểu\\n9. Hòa Hảo\\n10. Đài tưởng niệm\\n11. Ngã 7 Lý Thái Tổ\\n12. Cao Thắng\\n13. Cư Xá Đô Thành\\n14. Bệnh viện Bình Dân\\n15. Cách Mạng tháng 8\\n16. Bệnh viện Mắt TPHCM\\n17. Sở Khoa học và Công nghệ\\n18. Phạm Ngọc Thạch\\n19. Công Viên Lê Văn Tám\\n20. Đinh Tiên Hoàng\\n21. Cầu Bông\\n22. Bệnh viện Bình Thạnh\\n23. Lăng Ông Bà Chiểu\\n24. UBND Quận Bình Thạnh\\n25. Bệnh Viện Gia Định\\n26. PCCC quận Bình Thạnh\\n27. Bệnh viện Phước An\\n28. Đại học Văn Hiến\\n29. Ngã Tư Thích Quảng Đức\\n30. Ngã tư Phan Xích Long\\n31. Ngã tư Phú Nhuận'}"
            ]
          },
          "execution_count": 19,
          "metadata": {},
          "output_type": "execute_result"
        }
      ],
      "source": [
        "agent.invoke(\"How to get from Chu Văn An to Ngã tư Phú Nhuận?\")"
      ]
    },
    {
      "cell_type": "code",
      "execution_count": 13,
      "metadata": {
        "colab": {
          "base_uri": "https://localhost:8080/"
        },
        "id": "I_dFfp7mEXaG",
        "outputId": "613de338-c809-4f25-9e4c-fb9515136fce"
      },
      "outputs": [
        {
          "name": "stdout",
          "output_type": "stream",
          "text": [
            "\n",
            "\n",
            "\u001b[1m> Entering new AgentExecutor chain...\u001b[0m\n",
            "\u001b[32;1m\u001b[1;3m\n",
            "Invoking: `python_repl_ast` with `{'query': 'next(filter(lambda s: s.Name == \"Cao Thắng\", stop_query.Stops)).__dict__'}`\n",
            "\n",
            "\n",
            "\u001b[0mWill execute this script:\n",
            "next(filter(lambda s: s.Name == \"Cao Thắng\", stop_query.Stops)).__dict__\n",
            "\n",
            "\u001b[36;1m\u001b[1;3m\n",
            "\n",
            "The script returns:\n",
            "{'_StopId': 92, '_Code': 'Q3 021', '_Name': 'Cao Thắng', '_StopType': 'Ô sơn', '_Zone': 'Quận 3', '_Ward': 'Phường 01', '_AddressNo': '503-507', '_Street': 'Điện Biên Phủ', '_SupportDisability': '', '_Status': 'Đang khai thác', '_Lng': 106.67738, '_Lat': 10.771164, '_Search': 'CT 503-507 DBP', '_Routes': '150, 91'}\u001b[0m\u001b[32;1m\u001b[1;3mHere is some information about the Cao Thắng bus stop:\n",
            "- **Stop ID:** 92\n",
            "- **Code:** Q3 021\n",
            "- **Zone:** Quận 3\n",
            "- **Address:** 503-507 Điện Biên Phủ Street\n",
            "- **Status:** Đang khai thác\n",
            "- **Bus Routes:** 150 and 91\u001b[0m\n",
            "\n",
            "\u001b[1m> Finished chain.\u001b[0m\n"
          ]
        },
        {
          "data": {
            "text/plain": [
              "{'input': 'Info about stop Cao Thắng',\n",
              " 'output': 'Here is some information about the Cao Thắng bus stop:\\n- **Stop ID:** 92\\n- **Code:** Q3 021\\n- **Zone:** Quận 3\\n- **Address:** 503-507 Điện Biên Phủ Street\\n- **Status:** Đang khai thác\\n- **Bus Routes:** 150 and 91'}"
            ]
          },
          "execution_count": 13,
          "metadata": {},
          "output_type": "execute_result"
        }
      ],
      "source": [
        "agent.invoke(\"Info about stop Cao Thắng\")"
      ]
    }
  ],
  "metadata": {
    "colab": {
      "provenance": []
    },
    "kernelspec": {
      "display_name": "Python 3",
      "name": "python3"
    },
    "language_info": {
      "name": "python"
    }
  },
  "nbformat": 4,
  "nbformat_minor": 0
}
